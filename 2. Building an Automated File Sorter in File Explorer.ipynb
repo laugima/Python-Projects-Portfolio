{
 "cells": [
  {
   "cell_type": "markdown",
   "id": "18fbc8c7-fa99-45ea-b150-8062758f2376",
   "metadata": {},
   "source": [
    "Automated File Sorter in File Explorer"
   ]
  },
  {
   "cell_type": "code",
   "execution_count": 5,
   "id": "cd71fce7-7896-40ce-98c6-2922bdc2e731",
   "metadata": {},
   "outputs": [],
   "source": [
    "import os, shutil"
   ]
  },
  {
   "cell_type": "code",
   "execution_count": 25,
   "id": "5d77d38b-1792-47ab-818c-7ffc81b04fa6",
   "metadata": {},
   "outputs": [],
   "source": [
    "path = r\"C:/Users/giron/Desktop/PROJECT FILES/\""
   ]
  },
  {
   "cell_type": "code",
   "execution_count": 33,
   "id": "b429b9bb-d9a2-47f0-bfd4-2c192bea7d93",
   "metadata": {},
   "outputs": [],
   "source": [
    "file_name = os.listdir(path)"
   ]
  },
  {
   "cell_type": "code",
   "execution_count": 39,
   "id": "d4372e0d-a218-4954-b4e0-e8d734ca9b58",
   "metadata": {},
   "outputs": [],
   "source": [
    "folder_names = ['xlsx files', 'image files', 'text files']\n",
    "\n",
    "for loop in range (0,3):\n",
    "   if not os.path.exists(path + folder_names[loop]):\n",
    "    os.makedirs((path + folder_names[loop]))\n",
    "\n",
    "for file in file_name:\n",
    "    if \".xlsx\" in file and not os.path.exists(path + \"xlsx files/\" + file):\n",
    "        shutil.move(path + file,path + \"xlsx files/\" + file)\n",
    "    elif \".jpg\" in file and not os.path.exists(path + \"image files/\" + file):\n",
    "        shutil.move(path + file,path + \"image files/\" + file)\n",
    "    elif \".txt\" in file and not os.path.exists(path + \"text files/\" + file):\n",
    "        shutil.move(path + file,path + \"text files/\" + file)"
   ]
  }
 ],
 "metadata": {
  "kernelspec": {
   "display_name": "Python 3 (ipykernel)",
   "language": "python",
   "name": "python3"
  },
  "language_info": {
   "codemirror_mode": {
    "name": "ipython",
    "version": 3
   },
   "file_extension": ".py",
   "mimetype": "text/x-python",
   "name": "python",
   "nbconvert_exporter": "python",
   "pygments_lexer": "ipython3",
   "version": "3.12.4"
  }
 },
 "nbformat": 4,
 "nbformat_minor": 5
}
