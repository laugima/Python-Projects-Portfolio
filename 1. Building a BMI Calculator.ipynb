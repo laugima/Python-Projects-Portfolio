{
 "cells": [
  {
   "cell_type": "code",
   "execution_count": null,
   "id": "ebbe57a6-9b75-4ef5-b4cb-47d658b9d345",
   "metadata": {},
   "outputs": [],
   "source": [
    "# Building a BMI Calculator\n",
    "\n",
    "# BMI = (weight in pounds x 703) / (height in inches x height in inches)"
   ]
  },
  {
   "cell_type": "code",
   "execution_count": 33,
   "id": "a8a45716-bdd5-44cb-9389-df77c257a95d",
   "metadata": {},
   "outputs": [
    {
     "name": "stdin",
     "output_type": "stream",
     "text": [
      "enter your name:  Laura\n",
      "enter your weight in pounds:  176\n",
      "enter your height in inches:  63\n"
     ]
    },
    {
     "name": "stdout",
     "output_type": "stream",
     "text": [
      "31.173595364071556\n",
      "Laura, you are obese\n"
     ]
    }
   ],
   "source": [
    "name =input (\"enter your name: \")\n",
    "\n",
    "weight = int(input (\"enter your weight in pounds: \"))\n",
    "\n",
    "height = int(input (\"enter your height in inches: \"))\n",
    "\n",
    "BMI = (weight * 703) / (height * height)\n",
    "\n",
    "print (BMI)\n",
    "\n",
    "if BMI>0:\n",
    "    if (BMI<18.5):\n",
    "        print(name + \", you are underweight\")\n",
    "    elif (BMI<=24.9):\n",
    "        print(name + \", you are normal weight\")\n",
    "    elif (BMI<29.9):\n",
    "        print(name + \", you are overweight\")\n",
    "    elif (BMI<34.9):\n",
    "        print(name + \", you are obese\")\n",
    "    elif (BMI<39.9):\n",
    "        print(name + \", you are severely obese\")\n",
    "    elif (BMI>40):\n",
    "        print(name + \", you are morbidly obese\")\n",
    "else:\n",
    "        print(\"Enter valid input\")"
   ]
  },
  {
   "cell_type": "code",
   "execution_count": null,
   "id": "69a643bc-d53e-4ca0-9aac-d9cf6be4860b",
   "metadata": {},
   "outputs": [],
   "source": []
  }
 ],
 "metadata": {
  "kernelspec": {
   "display_name": "Python 3 (ipykernel)",
   "language": "python",
   "name": "python3"
  },
  "language_info": {
   "codemirror_mode": {
    "name": "ipython",
    "version": 3
   },
   "file_extension": ".py",
   "mimetype": "text/x-python",
   "name": "python",
   "nbconvert_exporter": "python",
   "pygments_lexer": "ipython3",
   "version": "3.12.4"
  }
 },
 "nbformat": 4,
 "nbformat_minor": 5
}
